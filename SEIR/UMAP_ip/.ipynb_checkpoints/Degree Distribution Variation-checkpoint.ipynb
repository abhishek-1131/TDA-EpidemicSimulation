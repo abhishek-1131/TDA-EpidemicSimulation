{
 "cells": [
  {
   "cell_type": "code",
   "execution_count": 2,
   "metadata": {},
   "outputs": [
    {
     "name": "stderr",
     "output_type": "stream",
     "text": [
      "/home/u72216/.local/lib/python3.7/site-packages/numba/core/cpu.py:78: UserWarning: Numba extension module 'sdc' failed to load due to 'VersionConflict((numba 0.53.1 (/home/u72216/.local/lib/python3.7/site-packages), Requirement.parse('numba<0.53,>=0.52.0')))'.\n",
      "  numba.core.entrypoints.init_all()\n",
      "/home/u72216/.local/lib/python3.7/site-packages/numba/core/cpu.py:78: UserWarning: Numba extension module 'numba_dppy.numpy_usm_shared' failed to load due to 'ImportError(cannot import name 'allocator' from 'numba.core.pythonapi' (/home/u72216/.local/lib/python3.7/site-packages/numba/core/pythonapi.py))'.\n",
      "  numba.core.entrypoints.init_all()\n"
     ]
    }
   ],
   "source": [
    "import networkx as nx\n",
    "import matplotlib.pyplot as plt\n",
    "import collections\n",
    "import numpy as np\n",
    "from sklearn.datasets import make_blobs\n",
    "import umap.umap_ as umap\n",
    "from seirsplus.models import *\n",
    "from seirsplus.networks import *\n",
    "import statistics\n",
    "import seir\n",
    "from seir_experiments import * \n",
    "import statistics"
   ]
  },
  {
   "cell_type": "code",
   "execution_count": 3,
   "metadata": {
    "jupyter": {
     "source_hidden": true
    }
   },
   "outputs": [],
   "source": [
    "def plot_degree_dist(G, t = 0.8):\n",
    "    degree_sequence = sorted([d for n, d in G.degree()], reverse=True)  # degree sequence\n",
    "    degreeCount = collections.Counter(degree_sequence)\n",
    "    deg, cnt = zip(*degreeCount.items())\n",
    "\n",
    "    fig, ax = plt.subplots()\n",
    "    ax.bar(deg, cnt, width=0.80,log =True)\n",
    "\n",
    "    plt.title(\"Degree Histogram\")\n",
    "    plt.ylabel(\"Count\")\n",
    "    plt.xlabel(\"Degree\")\n",
    " \n",
    "    #plt.xlim(1, max(deg))\n",
    "    #plt.ylim(1, max(cnt))\n",
    "    #ax.set_xticks([d + 0.4 for d in deg])\n",
    "    #ax.set_xticklabels(deg)\n",
    "    plt.show()\n",
    "    return deg,cnt"
   ]
  },
  {
   "cell_type": "code",
   "execution_count": 4,
   "metadata": {},
   "outputs": [],
   "source": [
    "def ipfnB(G1,s=10000,e=1,i=1):\n",
    "#s = no of points\n",
    "    SIGMA  = 1/5.2\n",
    "    GAMMA  = 1/10\n",
    "    MU_I   = 0.002\n",
    "    \n",
    "    R0     = 2.5\n",
    "    BETA   = 1/(1/GAMMA) * R0\n",
    "    BETA_Q = 0.5*BETA\n",
    "\n",
    "    P      = 0.2\n",
    "    Q      = 0.05\n",
    "    \n",
    "    E=s*e/100\n",
    "    I=s*i/100\n",
    "    \n",
    "    model_base = SEIRSNetworkModel(G       = G1, \n",
    "                          beta    = BETA, \n",
    "                          sigma   = SIGMA, \n",
    "                          gamma   = GAMMA, \n",
    "                          initE = E, initI = I)\n",
    "    \n",
    "    model_base.run(T=300)\n",
    "    fig,axs = model_base.figure_basic()\n",
    "    \n",
    "    line = axs.lines[1]\n",
    "    p = line.get_data()\n",
    "    p0 = p[0].compressed()\n",
    "    p1 = p[1].compressed()\n",
    "    #Maximum\n",
    "    m = max(p[1])\n",
    "    #Days Max\n",
    "    ind= numpy.argmax(p[1])\n",
    "    d = p[0][numpy.argmax(p[1])]\n",
    "    #Mean and St Deviation\n",
    "    mean  = statistics.mean(p1)\n",
    "    stdev =  statistics.stdev(p1)\n",
    "    line1 = axs.lines[2]\n",
    "    w = line1.get_data()\n",
    "    #Total Infections\n",
    "    tot = 1 -(w[1][w[1].shape[0]-1])\n",
    "    tp = 0.1*m\n",
    "    np = 0.9*m\n",
    "    #Ten Percent\n",
    "    tpl =[]\n",
    "    for i in range(len(p1)):\n",
    "        x = numpy.abs(p1[i]-tp)\n",
    "        if(x<0.001):\n",
    "            #print(p1[i],x,p0[i])\n",
    "            tpl.append(p0[i])\n",
    "    tplval = statistics.mean(tpl)\n",
    "    \n",
    "    #Ninety Percent\n",
    "    nplfh =[]\n",
    "    nplsh = []\n",
    "    for i in range(ind):\n",
    "        x = numpy.abs(p1[i]-np)\n",
    "        if(x<0.001):\n",
    "            #print(p1[i],x,p0[i])\n",
    "            nplfh.append(p0[i])\n",
    "    for i in range(ind, len(p1)):\n",
    "        x = numpy.abs(p1[i]-np)\n",
    "        if(x<0.001):\n",
    "            #print(p1[i],x,p0[i])\n",
    "            nplsh.append(p0[i])\n",
    "    npl=[(statistics.mean(nplfh)),(statistics.mean(nplsh))]\n",
    "    \n",
    "    \n",
    "    return [m,d,tot,tplval,npl, mean, stdev],p"
   ]
  },
  {
   "cell_type": "code",
   "execution_count": 5,
   "metadata": {},
   "outputs": [],
   "source": [
    "def calc_euclid(x,y):\n",
    "    dist = sum((x-y)**2)\n",
    "\n",
    "    return dist"
   ]
  },
  {
   "cell_type": "code",
   "execution_count": 7,
   "metadata": {},
   "outputs": [
    {
     "name": "stderr",
     "output_type": "stream",
     "text": [
      "/home/u72216/.local/lib/python3.7/site-packages/seaborn/distributions.py:2557: FutureWarning: `distplot` is a deprecated function and will be removed in a future version. Please adapt your code to use either `displot` (a figure-level function with similar flexibility) or `histplot` (an axes-level function for histograms).\n",
      "  warnings.warn(msg, FutureWarning)\n"
     ]
    },
    {
     "name": "stdout",
     "output_type": "stream",
     "text": [
      "15.0 133\n"
     ]
    },
    {
     "data": {
      "image/png": "[encoded data removed]",
      "text/plain": [
       "<Figure size 1800x720 with 1 Axes>"
      ]
     },
     "metadata": {
      "needs_background": "light"
     },
     "output_type": "display_data"
    }
   ],
   "source": [
    "ax,d= plot_degree_dist(2,20,[0.4,0.2,0.01])"
   ]
  },
  {
   "cell_type": "code",
   "execution_count": 6,
   "metadata": {},
   "outputs": [],
   "source": [
    "def plot_degree_dist(min_degree, mean_degree, gammas):\n",
    "    \n",
    "    N=10000\n",
    "    fig, ax = plt.subplots()\n",
    "    deg_list=[]\n",
    "    for gamma in gammas:\n",
    "        degs = generate_power_law_degrees(N, min_degree, mean_degree, gamma)\n",
    "        # Degree histogram\n",
    "        ax = sns.distplot(degs, kde=False, label=gamma, ax=ax)\n",
    "        # hist_kws={'alpha':0.2}, bins=np.arange(0, 1200, 20),\n",
    "        deg_list.append(degs)\n",
    "    ax.set_yscale('log')\n",
    "    ax.set_xlabel('Degree')\n",
    "    ax.set_ylabel('Number of nodes')\n",
    "    ax.legend(title='gamma')\n",
    "    ax.set_title(f'Degree distribution (log scale) for N={N} nodes, mean={mean_degree}')\n",
    "    print(np.median(degs), np.sort(degs)[-int(0.001 * N)])  # (median, top 0.1%)\n",
    "    return ax,deg_list"
   ]
  },
  {
   "cell_type": "code",
   "execution_count": 8,
   "metadata": {},
   "outputs": [],
   "source": [
    "#Sort Key\n",
    "def mykey(x):\n",
    "    return(x[0])"
   ]
  },
  {
   "cell_type": "code",
   "execution_count": 9,
   "metadata": {},
   "outputs": [],
   "source": [
    "s = 10000\n",
    "data1,y1 = make_blobs(n_samples=s,n_features=2,cluster_std=3)"
   ]
  },
  {
   "cell_type": "code",
   "execution_count": null,
   "metadata": {},
   "outputs": [
    {
     "name": "stdout",
     "output_type": "stream",
     "text": [
      "0\n",
      "1000\n",
      "2000\n",
      "3000\n",
      "4000\n",
      "5000\n",
      "6000\n",
      "7000\n",
      "8000\n",
      "9000\n",
      "0\n",
      "1000\n",
      "2000\n",
      "3000\n",
      "4000\n",
      "5000\n",
      "6000\n",
      "7000\n",
      "8000\n",
      "9000\n",
      "0\n",
      "1000\n",
      "2000\n",
      "3000\n"
     ]
    }
   ],
   "source": [
    "graphs = []\n",
    "for deg in d:\n",
    "    g1=nx.Graph()\n",
    "    g1.add_nodes_from(range(10000))\n",
    "    for i in range(len(data1)):\n",
    "\n",
    "        dlist=[]\n",
    "        for j in range(len(data1)):\n",
    "            diff = calc_euclid(data1[i],data1[j])\n",
    "            dlist.append([diff,j])\n",
    "        dlist.sort(key=mykey)\n",
    "        #print(dlist[:20])\n",
    "        edgelist=[]\n",
    "        cntr= 0\n",
    "        p=1\n",
    "        while(cntr!=deg[i] and p<10000):\n",
    "        #for k in range(deg[i]):\n",
    "            k= dlist[p][1]\n",
    "            if(g1.degree[k]<deg[j]):\n",
    "                edgelist.append((i,k))\n",
    "                cntr=cntr+1\n",
    "            p=p+1\n",
    "\n",
    "        g1.add_edges_from(edgelist)\n",
    "        if(i%1000==0): print(i)\n",
    "    graphs.append(g1)\n",
    "    "
   ]
  },
  {
   "cell_type": "code",
   "execution_count": 12,
   "metadata": {
    "collapsed": true,
    "jupyter": {
     "outputs_hidden": true
    }
   },
   "outputs": [
    {
     "name": "stdout",
     "output_type": "stream",
     "text": [
      "0\n",
      "1\n",
      "2\n",
      "3\n",
      "4\n",
      "5\n",
      "6\n",
      "7\n",
      "8\n",
      "9\n",
      "10\n",
      "11\n",
      "12\n",
      "13\n",
      "14\n",
      "15\n",
      "16\n",
      "17\n",
      "18\n",
      "19\n",
      "20\n",
      "21\n",
      "22\n",
      "23\n",
      "24\n",
      "25\n",
      "26\n",
      "27\n",
      "28\n",
      "29\n",
      "30\n",
      "31\n",
      "32\n",
      "33\n",
      "34\n",
      "35\n",
      "36\n",
      "37\n",
      "38\n",
      "39\n",
      "40\n",
      "41\n",
      "42\n",
      "43\n",
      "44\n",
      "45\n",
      "46\n",
      "47\n",
      "48\n",
      "49\n",
      "50\n",
      "51\n",
      "52\n",
      "53\n",
      "54\n",
      "55\n",
      "56\n",
      "57\n",
      "58\n",
      "59\n",
      "60\n",
      "61\n",
      "62\n",
      "63\n",
      "64\n",
      "65\n",
      "66\n",
      "67\n",
      "68\n",
      "69\n",
      "70\n",
      "71\n",
      "72\n",
      "73\n",
      "74\n",
      "75\n",
      "76\n",
      "77\n",
      "78\n",
      "79\n",
      "80\n",
      "81\n",
      "82\n",
      "83\n",
      "84\n",
      "85\n",
      "86\n",
      "87\n",
      "88\n",
      "89\n",
      "90\n",
      "91\n",
      "92\n",
      "93\n",
      "94\n",
      "95\n",
      "96\n",
      "97\n",
      "98\n",
      "99\n",
      "100\n",
      "101\n",
      "102\n",
      "103\n",
      "104\n",
      "105\n",
      "106\n",
      "107\n",
      "108\n",
      "109\n",
      "110\n",
      "111\n",
      "112\n",
      "113\n",
      "114\n",
      "115\n",
      "116\n",
      "117\n",
      "118\n"
     ]
    },
    {
     "ename": "KeyboardInterrupt",
     "evalue": "",
     "output_type": "error",
     "traceback": [
      "\u001b[0;31m---------------------------------------------------------------------------\u001b[0m",
      "\u001b[0;31mKeyboardInterrupt\u001b[0m                         Traceback (most recent call last)",
      "\u001b[0;32m<ipython-input-12-f68ba47bb9ee>\u001b[0m in \u001b[0;36m<module>\u001b[0;34m\u001b[0m\n\u001b[1;32m      5\u001b[0m     \u001b[0mdlist\u001b[0m\u001b[0;34m=\u001b[0m\u001b[0;34m[\u001b[0m\u001b[0;34m]\u001b[0m\u001b[0;34m\u001b[0m\u001b[0;34m\u001b[0m\u001b[0m\n\u001b[1;32m      6\u001b[0m     \u001b[0;32mfor\u001b[0m \u001b[0mj\u001b[0m \u001b[0;32min\u001b[0m \u001b[0mrange\u001b[0m\u001b[0;34m(\u001b[0m\u001b[0mlen\u001b[0m\u001b[0;34m(\u001b[0m\u001b[0mdata1\u001b[0m\u001b[0;34m)\u001b[0m\u001b[0;34m)\u001b[0m\u001b[0;34m:\u001b[0m\u001b[0;34m\u001b[0m\u001b[0;34m\u001b[0m\u001b[0m\n\u001b[0;32m----> 7\u001b[0;31m         \u001b[0mdiff\u001b[0m \u001b[0;34m=\u001b[0m \u001b[0mcalc_euclid\u001b[0m\u001b[0;34m(\u001b[0m\u001b[0mdata1\u001b[0m\u001b[0;34m[\u001b[0m\u001b[0mi\u001b[0m\u001b[0;34m]\u001b[0m\u001b[0;34m,\u001b[0m\u001b[0mdata1\u001b[0m\u001b[0;34m[\u001b[0m\u001b[0mj\u001b[0m\u001b[0;34m]\u001b[0m\u001b[0;34m)\u001b[0m\u001b[0;34m\u001b[0m\u001b[0;34m\u001b[0m\u001b[0m\n\u001b[0m\u001b[1;32m      8\u001b[0m         \u001b[0mdlist\u001b[0m\u001b[0;34m.\u001b[0m\u001b[0mappend\u001b[0m\u001b[0;34m(\u001b[0m\u001b[0;34m[\u001b[0m\u001b[0mdiff\u001b[0m\u001b[0;34m,\u001b[0m\u001b[0mj\u001b[0m\u001b[0;34m]\u001b[0m\u001b[0;34m)\u001b[0m\u001b[0;34m\u001b[0m\u001b[0;34m\u001b[0m\u001b[0m\n\u001b[1;32m      9\u001b[0m     \u001b[0mdlist\u001b[0m\u001b[0;34m.\u001b[0m\u001b[0msort\u001b[0m\u001b[0;34m(\u001b[0m\u001b[0mkey\u001b[0m\u001b[0;34m=\u001b[0m\u001b[0mmykey\u001b[0m\u001b[0;34m)\u001b[0m\u001b[0;34m\u001b[0m\u001b[0;34m\u001b[0m\u001b[0m\n",
      "\u001b[0;32m<ipython-input-5-6201c613e6c3>\u001b[0m in \u001b[0;36mcalc_euclid\u001b[0;34m(x, y)\u001b[0m\n\u001b[1;32m      1\u001b[0m \u001b[0;32mdef\u001b[0m \u001b[0mcalc_euclid\u001b[0m\u001b[0;34m(\u001b[0m\u001b[0mx\u001b[0m\u001b[0;34m,\u001b[0m\u001b[0my\u001b[0m\u001b[0;34m)\u001b[0m\u001b[0;34m:\u001b[0m\u001b[0;34m\u001b[0m\u001b[0;34m\u001b[0m\u001b[0m\n\u001b[0;32m----> 2\u001b[0;31m     \u001b[0mdist\u001b[0m \u001b[0;34m=\u001b[0m \u001b[0msum\u001b[0m\u001b[0;34m(\u001b[0m\u001b[0;34m(\u001b[0m\u001b[0mx\u001b[0m\u001b[0;34m-\u001b[0m\u001b[0my\u001b[0m\u001b[0;34m)\u001b[0m\u001b[0;34m**\u001b[0m\u001b[0;36m2\u001b[0m\u001b[0;34m)\u001b[0m\u001b[0;34m\u001b[0m\u001b[0;34m\u001b[0m\u001b[0m\n\u001b[0m\u001b[1;32m      3\u001b[0m \u001b[0;34m\u001b[0m\u001b[0m\n\u001b[1;32m      4\u001b[0m     \u001b[0;32mreturn\u001b[0m \u001b[0mdist\u001b[0m\u001b[0;34m\u001b[0m\u001b[0;34m\u001b[0m\u001b[0m\n",
      "\u001b[0;31mKeyboardInterrupt\u001b[0m: "
     ]
    }
   ],
   "source": [
    "g1=nx.Graph()\n",
    "g1.add_nodes_from(range(10000))\n",
    "for i in range(len(data1)):\n",
    "\n",
    "    dlist=[]\n",
    "    for j in range(len(data1)):\n",
    "        diff = calc_euclid(data1[i],data1[j])\n",
    "        dlist.append([diff,j])\n",
    "    dlist.sort(key=mykey)\n",
    "    #print(dlist[:20])\n",
    "    edgelist=[]\n",
    "    cntr= 0\n",
    "    p=1\n",
    "    while(cntr!=d[0][i] and p<10000):\n",
    "    #for k in range(deg[i]):\n",
    "        k= dlist[p][1]\n",
    "        if(g1.degree[k]<d[0][j]):\n",
    "            edgelist.append((i,k))\n",
    "            cntr=cntr+1\n",
    "        p=p+1\n",
    "\n",
    "    g1.add_edges_from(edgelist)\n",
    "    print(i)"
   ]
  },
  {
   "cell_type": "code",
   "execution_count": 14,
   "metadata": {},
   "outputs": [
    {
     "data": {
      "text/plain": [
       "3"
      ]
     },
     "execution_count": 14,
     "metadata": {},
     "output_type": "execute_result"
    }
   ],
   "source": []
  },
  {
   "cell_type": "code",
   "execution_count": null,
   "metadata": {
    "jupyter": {
     "source_hidden": true
    }
   },
   "outputs": [],
   "source": [
    "g1=nx.Graph()\n",
    "g1.add_nodes_from(range(10000))\n",
    "for i in range(len(data1)):\n",
    "    dlist=[]\n",
    "    for j in range(len(data1)):\n",
    "        diff = calc_euclid(data1[i],data1[j])\n",
    "        dlist.append([diff,j])\n",
    "    dlist.sort(key=mykey)\n",
    "    #print(dlist[:20])\n",
    "    edgelist=[]\n",
    "    cntr= 0\n",
    "    p=1\n",
    "    while(cntr!=deg[i]):\n",
    "    for k in range(deg[i]):\n",
    "        k= dlist[p][1]\n",
    "        if(G_k.degree[k]<g1.degree[k]):\n",
    "            edgelist.append((i,k))\n",
    "            cntr=cntr+1\n",
    "        p=p+1\n",
    "        \n",
    "    g1.add_edges_from(edgelist)\n",
    "    \n",
    "    "
   ]
  },
  {
   "cell_type": "code",
   "execution_count": 1,
   "metadata": {
    "collapsed": true,
    "jupyter": {
     "outputs_hidden": true
    }
   },
   "outputs": [
    {
     "ename": "NameError",
     "evalue": "name 'ipfnB' is not defined",
     "output_type": "error",
     "traceback": [
      "\u001b[0;31m---------------------------------------------------------------------------\u001b[0m",
      "\u001b[0;31mNameError\u001b[0m                                 Traceback (most recent call last)",
      "\u001b[0;32m<ipython-input-1-d7381aa3cffe>\u001b[0m in \u001b[0;36m<module>\u001b[0;34m\u001b[0m\n\u001b[0;32m----> 1\u001b[0;31m \u001b[0mres1\u001b[0m\u001b[0;34m,\u001b[0m\u001b[0mline1\u001b[0m \u001b[0;34m=\u001b[0m \u001b[0mipfnB\u001b[0m\u001b[0;34m(\u001b[0m\u001b[0mgraphs\u001b[0m\u001b[0;34m[\u001b[0m\u001b[0;36m0\u001b[0m\u001b[0;34m]\u001b[0m\u001b[0;34m,\u001b[0m\u001b[0me\u001b[0m\u001b[0;34m=\u001b[0m\u001b[0;36m1\u001b[0m\u001b[0;34m,\u001b[0m\u001b[0mi\u001b[0m\u001b[0;34m=\u001b[0m\u001b[0;36m1\u001b[0m\u001b[0;34m)\u001b[0m\u001b[0;34m\u001b[0m\u001b[0;34m\u001b[0m\u001b[0m\n\u001b[0m\u001b[1;32m      2\u001b[0m \u001b[0mres2\u001b[0m\u001b[0;34m,\u001b[0m\u001b[0mline2\u001b[0m \u001b[0;34m=\u001b[0m \u001b[0mipfnB\u001b[0m\u001b[0;34m(\u001b[0m\u001b[0mgraphs\u001b[0m\u001b[0;34m[\u001b[0m\u001b[0;36m1\u001b[0m\u001b[0;34m]\u001b[0m\u001b[0;34m,\u001b[0m\u001b[0me\u001b[0m\u001b[0;34m=\u001b[0m\u001b[0;36m1\u001b[0m\u001b[0;34m,\u001b[0m\u001b[0mi\u001b[0m\u001b[0;34m=\u001b[0m\u001b[0;36m1\u001b[0m\u001b[0;34m)\u001b[0m\u001b[0;34m\u001b[0m\u001b[0;34m\u001b[0m\u001b[0m\n\u001b[1;32m      3\u001b[0m \u001b[0;31m#res3,line3 = ipfnB(graphs[2],e=1,i=1)\u001b[0m\u001b[0;34m\u001b[0m\u001b[0;34m\u001b[0m\u001b[0;34m\u001b[0m\u001b[0m\n",
      "\u001b[0;31mNameError\u001b[0m: name 'ipfnB' is not defined"
     ]
    }
   ],
   "source": [
    "res1,line1 = ipfnB(graphs[0],e=1,i=1)\n",
    "res2,line2 = ipfnB(graphs[1],e=1,i=1)\n",
    "#res3,line3 = ipfnB(graphs[2],e=1,i=1)\n"
   ]
  },
  {
   "cell_type": "code",
   "execution_count": null,
   "metadata": {},
   "outputs": [],
   "source": [
    "x1 = line1[0].compressed()\n",
    "y1 = line1[1].compressed()\n",
    "plt.plot(x1, y1, label = \"0.4\")\n",
    "\n",
    "x2 = line2[0].compressed()\n",
    "y2 = line2[1].compressed()\n",
    "plt.plot(x2, y2, label = \"0.2\")\n",
    "\n",
    "x3 = line3[0].compressed()\n",
    "y3 = line3[1].compressed()\n",
    "plt.plot(x3, y3, label = \"0.1\")\n",
    "\n",
    "plt.legend()\n",
    "plt.show()"
   ]
  },
  {
   "cell_type": "code",
   "execution_count": 8,
   "metadata": {},
   "outputs": [
    {
     "data": {
      "text/plain": [
       "array([3.08563115, 1.8172595 ])"
      ]
     },
     "execution_count": 8,
     "metadata": {},
     "output_type": "execute_result"
    }
   ],
   "source": [
    "data1[1000]"
   ]
  },
  {
   "cell_type": "code",
   "execution_count": null,
   "metadata": {},
   "outputs": [],
   "source": [
    "distance_list=[]\n",
    "for i in range(len(data1)):\n",
    "    diff = calc_euclid(data1[789],data1[i])\n",
    "    distance_list.append(diff)    \n",
    "\n",
    "    \n",
    "    \n",
    "fig, ax = plt.subplots(2)  \n",
    "ax0= sns.histplot(distance_list, kde=False, bins = 30,ax=ax[0])\n",
    "ax0.set_xlabel('Distance')\n",
    "ax0.set_ylabel('Number of nodes')\n",
    "ax0.set_title(f'Degree distribution normal and log scale for spatial data')\n",
    "\n",
    "ax1= sns.histplot(distance_list, kde=False, bins = 30,ax=ax[1])\n",
    "ax1.set_xlabel('Distance')\n",
    "ax1.set_ylabel('Number of nodes')\n",
    "ax1.set_yscale('log')\n"
   ]
  },
  {
   "cell_type": "code",
   "execution_count": 35,
   "metadata": {},
   "outputs": [
    {
     "name": "stderr",
     "output_type": "stream",
     "text": [
      "/home/u72216/.local/lib/python3.7/site-packages/seaborn/distributions.py:2557: FutureWarning: `distplot` is a deprecated function and will be removed in a future version. Please adapt your code to use either `displot` (a figure-level function with similar flexibility) or `histplot` (an axes-level function for histograms).\n",
      "  warnings.warn(msg, FutureWarning)\n"
     ]
    },
    {
     "name": "stdout",
     "output_type": "stream",
     "text": [
      "13.0 212\n"
     ]
    },
    {
     "data": {
      "image/png": "[encoded data removed]",
      "text/plain": [
       "<Figure size 1800x720 with 1 Axes>"
      ]
     },
     "metadata": {
      "needs_background": "light"
     },
     "output_type": "display_data"
    }
   ],
   "source": [
    "ax,d= plot_degree_dist(2,20,[0.2])"
   ]
  },
  {
   "cell_type": "code",
   "execution_count": 38,
   "metadata": {},
   "outputs": [
    {
     "name": "stdout",
     "output_type": "stream",
     "text": [
      "0\n",
      "100\n",
      "200\n",
      "300\n",
      "400\n",
      "500\n",
      "600\n",
      "700\n",
      "800\n",
      "900\n",
      "1000\n",
      "1100\n",
      "1200\n",
      "1300\n",
      "1400\n",
      "1500\n",
      "1600\n",
      "1700\n",
      "1800\n",
      "1900\n",
      "2000\n",
      "2100\n",
      "2200\n",
      "2300\n"
     ]
    },
    {
     "ename": "KeyboardInterrupt",
     "evalue": "",
     "output_type": "error",
     "traceback": [
      "\u001b[0;31m---------------------------------------------------------------------------\u001b[0m",
      "\u001b[0;31mKeyboardInterrupt\u001b[0m                         Traceback (most recent call last)",
      "\u001b[0;32m<ipython-input-38-407c91388af9>\u001b[0m in \u001b[0;36m<module>\u001b[0;34m\u001b[0m\n\u001b[1;32m      4\u001b[0m     \u001b[0mdlist\u001b[0m\u001b[0;34m=\u001b[0m\u001b[0;34m[\u001b[0m\u001b[0;34m]\u001b[0m\u001b[0;34m\u001b[0m\u001b[0;34m\u001b[0m\u001b[0m\n\u001b[1;32m      5\u001b[0m     \u001b[0;32mfor\u001b[0m \u001b[0mj\u001b[0m \u001b[0;32min\u001b[0m \u001b[0mrange\u001b[0m\u001b[0;34m(\u001b[0m\u001b[0mlen\u001b[0m\u001b[0;34m(\u001b[0m\u001b[0mdata1\u001b[0m\u001b[0;34m)\u001b[0m\u001b[0;34m)\u001b[0m\u001b[0;34m:\u001b[0m\u001b[0;34m\u001b[0m\u001b[0;34m\u001b[0m\u001b[0m\n\u001b[0;32m----> 6\u001b[0;31m         \u001b[0mdiff\u001b[0m \u001b[0;34m=\u001b[0m \u001b[0mcalc_euclid\u001b[0m\u001b[0;34m(\u001b[0m\u001b[0mdata1\u001b[0m\u001b[0;34m[\u001b[0m\u001b[0mi\u001b[0m\u001b[0;34m]\u001b[0m\u001b[0;34m,\u001b[0m\u001b[0mdata1\u001b[0m\u001b[0;34m[\u001b[0m\u001b[0mj\u001b[0m\u001b[0;34m]\u001b[0m\u001b[0;34m)\u001b[0m\u001b[0;34m\u001b[0m\u001b[0;34m\u001b[0m\u001b[0m\n\u001b[0m\u001b[1;32m      7\u001b[0m         \u001b[0mdlist\u001b[0m\u001b[0;34m.\u001b[0m\u001b[0mappend\u001b[0m\u001b[0;34m(\u001b[0m\u001b[0;34m[\u001b[0m\u001b[0mdiff\u001b[0m\u001b[0;34m,\u001b[0m\u001b[0mj\u001b[0m\u001b[0;34m]\u001b[0m\u001b[0;34m)\u001b[0m\u001b[0;34m\u001b[0m\u001b[0;34m\u001b[0m\u001b[0m\n\u001b[1;32m      8\u001b[0m     \u001b[0mdlist\u001b[0m\u001b[0;34m.\u001b[0m\u001b[0msort\u001b[0m\u001b[0;34m(\u001b[0m\u001b[0mkey\u001b[0m\u001b[0;34m=\u001b[0m\u001b[0mmykey\u001b[0m\u001b[0;34m)\u001b[0m\u001b[0;34m\u001b[0m\u001b[0;34m\u001b[0m\u001b[0m\n",
      "\u001b[0;32m<ipython-input-11-6201c613e6c3>\u001b[0m in \u001b[0;36mcalc_euclid\u001b[0;34m(x, y)\u001b[0m\n\u001b[1;32m      1\u001b[0m \u001b[0;32mdef\u001b[0m \u001b[0mcalc_euclid\u001b[0m\u001b[0;34m(\u001b[0m\u001b[0mx\u001b[0m\u001b[0;34m,\u001b[0m\u001b[0my\u001b[0m\u001b[0;34m)\u001b[0m\u001b[0;34m:\u001b[0m\u001b[0;34m\u001b[0m\u001b[0;34m\u001b[0m\u001b[0m\n\u001b[0;32m----> 2\u001b[0;31m     \u001b[0mdist\u001b[0m \u001b[0;34m=\u001b[0m \u001b[0msum\u001b[0m\u001b[0;34m(\u001b[0m\u001b[0;34m(\u001b[0m\u001b[0mx\u001b[0m\u001b[0;34m-\u001b[0m\u001b[0my\u001b[0m\u001b[0;34m)\u001b[0m\u001b[0;34m**\u001b[0m\u001b[0;36m2\u001b[0m\u001b[0;34m)\u001b[0m\u001b[0;34m\u001b[0m\u001b[0;34m\u001b[0m\u001b[0m\n\u001b[0m\u001b[1;32m      3\u001b[0m \u001b[0;34m\u001b[0m\u001b[0m\n\u001b[1;32m      4\u001b[0m     \u001b[0;32mreturn\u001b[0m \u001b[0mdist\u001b[0m\u001b[0;34m\u001b[0m\u001b[0;34m\u001b[0m\u001b[0m\n",
      "\u001b[0;31mKeyboardInterrupt\u001b[0m: "
     ]
    }
   ],
   "source": [
    "g=nx.Graph()\n",
    "g.add_nodes_from(range(10000))\n",
    "for i in range(len(data1)):\n",
    "    dlist=[]\n",
    "    for j in range(len(data1)):\n",
    "        diff = calc_euclid(data1[i],data1[j])\n",
    "        dlist.append([diff,j])\n",
    "    dlist.sort(key=mykey)\n",
    "    #print(dlist[:20])\n",
    "    edgelist=[]\n",
    "    for k in range(d[0][i]):\n",
    "        edgelist.append((i,dlist[k+1][1]))\n",
    "    g.add_edges_from(edgelist)\n",
    "    if(i%100==0): print(i)"
   ]
  }
 ],
 "metadata": {
  "kernelspec": {
   "display_name": "Python 3.7 (Intel® oneAPI)",
   "language": "python",
   "name": "c009-intel_distribution_of_python_3_oneapi-beta05-python"
  },
  "language_info": {
   "codemirror_mode": {
    "name": "ipython",
    "version": 3
   },
   "file_extension": ".py",
   "mimetype": "text/x-python",
   "name": "python",
   "nbconvert_exporter": "python",
   "pygments_lexer": "ipython3",
   "version": "3.7.9"
  }
 },
 "nbformat": 4,
 "nbformat_minor": 4
}
