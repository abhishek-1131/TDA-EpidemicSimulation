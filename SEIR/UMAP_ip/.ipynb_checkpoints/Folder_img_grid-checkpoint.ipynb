{
 "cells": [
  {
   "cell_type": "code",
   "execution_count": 4,
   "metadata": {},
   "outputs": [
    {
     "name": "stdout",
     "output_type": "stream",
     "text": [
      "['c05|1.5.png', 'c05|2.0.png', 'c05|2.5.png', 'c05|3.0.png', 'c05|3.5.png', 'c05|4.0.png', 'c09|1.5.png', 'c09|2.0.png', 'c09|2.5.png', 'c09|3.0.png', 'c09|3.5.png', 'c09|4.0.png', 'c13|1.5.png', 'c13|2.0.png', 'c13|2.5.png', 'c13|3.0.png', 'c13|3.5.png', 'c13|4.0.png', 'c17|1.5.png', 'c17|2.0.png', 'c17|2.5.png', 'c17|3.0.png', 'c17|3.5.png', 'c17|4.0.png', 'c21|1.5.png', 'c21|2.0.png', 'c21|2.5.png', 'c21|3.0.png', 'c21|3.5.png', 'c21|4.0.png', 'c25|1.5.png', 'c25|2.0.png', 'c25|2.5.png', 'c25|3.0.png', 'c25|3.5.png', 'c25|4.0.png']\n"
     ]
    },
    {
     "ename": "ValueError",
     "evalue": "could not broadcast input array from shape (376,508,3) into shape (376,529,3)",
     "output_type": "error",
     "traceback": [
      "\u001b[0;31m---------------------------------------------------------------------------\u001b[0m",
      "\u001b[0;31mValueError\u001b[0m                                Traceback (most recent call last)",
      "\u001b[0;32m<ipython-input-4-0303f64f10d1>\u001b[0m in \u001b[0;36m<module>\u001b[0;34m\u001b[0m\n\u001b[1;32m     41\u001b[0m     \u001b[0mx\u001b[0m \u001b[0;34m=\u001b[0m \u001b[0mx_i\u001b[0m \u001b[0;34m*\u001b[0m \u001b[0;34m(\u001b[0m\u001b[0mimg_w\u001b[0m \u001b[0;34m+\u001b[0m \u001b[0mm_x\u001b[0m\u001b[0;34m)\u001b[0m\u001b[0;34m\u001b[0m\u001b[0;34m\u001b[0m\u001b[0m\n\u001b[1;32m     42\u001b[0m     \u001b[0my\u001b[0m \u001b[0;34m=\u001b[0m \u001b[0my_i\u001b[0m \u001b[0;34m*\u001b[0m \u001b[0;34m(\u001b[0m\u001b[0mimg_h\u001b[0m \u001b[0;34m+\u001b[0m \u001b[0mm_y\u001b[0m\u001b[0;34m)\u001b[0m\u001b[0;34m\u001b[0m\u001b[0;34m\u001b[0m\u001b[0m\n\u001b[0;32m---> 43\u001b[0;31m     \u001b[0mimgmatrix\u001b[0m\u001b[0;34m[\u001b[0m\u001b[0my\u001b[0m\u001b[0;34m:\u001b[0m\u001b[0my\u001b[0m\u001b[0;34m+\u001b[0m\u001b[0mimg_h\u001b[0m\u001b[0;34m,\u001b[0m \u001b[0mx\u001b[0m\u001b[0;34m:\u001b[0m\u001b[0mx\u001b[0m\u001b[0;34m+\u001b[0m\u001b[0mimg_w\u001b[0m\u001b[0;34m,\u001b[0m \u001b[0;34m:\u001b[0m\u001b[0;34m]\u001b[0m \u001b[0;34m=\u001b[0m \u001b[0mimg\u001b[0m\u001b[0;34m\u001b[0m\u001b[0;34m\u001b[0m\u001b[0m\n\u001b[0m\u001b[1;32m     44\u001b[0m \u001b[0;34m\u001b[0m\u001b[0m\n\u001b[1;32m     45\u001b[0m \u001b[0mresized\u001b[0m \u001b[0;34m=\u001b[0m \u001b[0mcv2\u001b[0m\u001b[0;34m.\u001b[0m\u001b[0mresize\u001b[0m\u001b[0;34m(\u001b[0m\u001b[0mimgmatrix\u001b[0m\u001b[0;34m,\u001b[0m \u001b[0;34m(\u001b[0m\u001b[0mmat_x\u001b[0m\u001b[0;34m,\u001b[0m\u001b[0mmat_y\u001b[0m\u001b[0;34m)\u001b[0m\u001b[0;34m,\u001b[0m \u001b[0minterpolation\u001b[0m \u001b[0;34m=\u001b[0m \u001b[0mcv2\u001b[0m\u001b[0;34m.\u001b[0m\u001b[0mINTER_AREA\u001b[0m\u001b[0;34m)\u001b[0m\u001b[0;34m\u001b[0m\u001b[0;34m\u001b[0m\u001b[0m\n",
      "\u001b[0;31mValueError\u001b[0m: could not broadcast input array from shape (376,508,3) into shape (376,529,3)"
     ]
    }
   ],
   "source": [
    "import itertools\n",
    "import cv2\n",
    "import os\n",
    "import numpy as np\n",
    "\n",
    "dirname = \"inputdata_visualgrid\" #Directory containing the images\n",
    "name = \"ip-grid\" + \".jpg\" #Save file name\n",
    "margin = 20 \n",
    "w = 6 # Width of the grid \n",
    "h = 6 # Height of the grid\n",
    "n = w*h\n",
    "\n",
    "filename_list = []\n",
    "\n",
    "for file in os.listdir(dirname):\n",
    "    if file.endswith(\".png\"):\n",
    "        filename_list.append(file)\n",
    "\n",
    "filename_list.sort();\n",
    "\n",
    "print(filename_list)\n",
    "\n",
    "imgs = [cv2.imread(os.getcwd()+\"/\"+dirname+\"/\"+file) for file in filename_list]\n",
    "\n",
    "\n",
    "img_h, img_w, img_c = imgs[0].shape\n",
    "\n",
    "m_x = margin\n",
    "m_y = margin\n",
    "\n",
    "mat_x = img_w * w + m_x * (w - 1)\n",
    "mat_y = img_h * h + m_y * (h - 1)\n",
    "\n",
    "imgmatrix = np.zeros((mat_y, mat_x, img_c),np.uint8)\n",
    "imgmatrix.fill(255)\n",
    "\n",
    "#Prepare an iterable with the right dimensions\n",
    "positions = itertools.product(range(h), range(w))\n",
    "\n",
    "for (y_i, x_i), img in zip(positions, imgs):\n",
    "    x = x_i * (img_w + m_x)\n",
    "    y = y_i * (img_h + m_y)\n",
    "    imgmatrix[y:y+img_h, x:x+img_w, :] = img\n",
    "\n",
    "resized = cv2.resize(imgmatrix, (mat_x,mat_y), interpolation = cv2.INTER_AREA)\n",
    "\n",
    "cv2.imwrite(name, resized,)"
   ]
  },
  {
   "cell_type": "code",
   "execution_count": 2,
   "metadata": {},
   "outputs": [
    {
     "data": {
      "text/plain": [
       "[]"
      ]
     },
     "execution_count": 2,
     "metadata": {},
     "output_type": "execute_result"
    }
   ],
   "source": [
    "imgs"
   ]
  }
 ],
 "metadata": {
  "kernelspec": {
   "display_name": "Python 3.7 (Intel® oneAPI)",
   "language": "python",
   "name": "c009-intel_distribution_of_python_3_oneapi-beta05-python"
  },
  "language_info": {
   "codemirror_mode": {
    "name": "ipython",
    "version": 3
   },
   "file_extension": ".py",
   "mimetype": "text/x-python",
   "name": "python",
   "nbconvert_exporter": "python",
   "pygments_lexer": "ipython3",
   "version": "3.7.9"
  }
 },
 "nbformat": 4,
 "nbformat_minor": 4
}
