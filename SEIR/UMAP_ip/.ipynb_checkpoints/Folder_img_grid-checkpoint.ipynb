{
 "cells": [
  {
   "cell_type": "code",
   "execution_count": 3,
   "metadata": {},
   "outputs": [
    {
     "name": "stdout",
     "output_type": "stream",
     "text": [
      "['nn=30|[1, 13]|1.5.png', 'nn=30|[1, 13]|2.0.png', 'nn=30|[1, 13]|2.5.png', 'nn=30|[1, 13]|3.0.png', 'nn=30|[1, 13]|3.5.png', 'nn=30|[1, 13]|4.0.png', 'nn=30|[1, 17]|1.5.png', 'nn=30|[1, 17]|2.0.png', 'nn=30|[1, 17]|2.5.png', 'nn=30|[1, 17]|3.0.png', 'nn=30|[1, 17]|3.5.png', 'nn=30|[1, 17]|4.0.png', 'nn=30|[1, 21]|1.5.png', 'nn=30|[1, 21]|2.0.png', 'nn=30|[1, 21]|2.5.png', 'nn=30|[1, 21]|3.0.png', 'nn=30|[1, 21]|3.5.png', 'nn=30|[1, 21]|4.0.png', 'nn=30|[1, 5]|1.5.png', 'nn=30|[1, 5]|2.0.png', 'nn=30|[1, 5]|2.5.png', 'nn=30|[1, 5]|3.0.png', 'nn=30|[1, 5]|3.5.png', 'nn=30|[1, 5]|4.0.png', 'nn=30|[1, 9]|1.5.png', 'nn=30|[1, 9]|2.0.png', 'nn=30|[1, 9]|2.5.png', 'nn=30|[1, 9]|3.0.png', 'nn=30|[1, 9]|3.5.png', 'nn=30|[1, 9]|4.0.png']\n"
     ]
    },
    {
     "data": {
      "text/plain": [
       "True"
      ]
     },
     "execution_count": 3,
     "metadata": {},
     "output_type": "execute_result"
    }
   ],
   "source": [
    "import itertools\n",
    "import cv2\n",
    "import os\n",
    "import numpy as np\n",
    "\n",
    "dirname = \"UMAP_ip\" #Directory containing the images\n",
    "name = \"sdvc\" + \".jpg\" #Save file name\n",
    "margin = 20 \n",
    "w = 6 # Width of the grid \n",
    "h = 5 # Height of the grid\n",
    "n = w*h\n",
    "\n",
    "filename_list = []\n",
    "\n",
    "for file in os.listdir(dirname):\n",
    "    if file.endswith(\".png\"):\n",
    "        filename_list.append(file)\n",
    "\n",
    "filename_list.sort();\n",
    "\n",
    "print(filename_list)\n",
    "\n",
    "imgs = [cv2.imread(os.getcwd()+\"/\"+dirname+\"/\"+file) for file in filename_list]\n",
    "\n",
    "\n",
    "img_h, img_w, img_c = imgs[0].shape\n",
    "\n",
    "m_x = margin\n",
    "m_y = margin\n",
    "\n",
    "mat_x = img_w * w + m_x * (w - 1)\n",
    "mat_y = img_h * h + m_y * (h - 1)\n",
    "\n",
    "imgmatrix = np.zeros((mat_y, mat_x, img_c),np.uint8)\n",
    "imgmatrix.fill(255)\n",
    "\n",
    "#Prepare an iterable with the right dimensions\n",
    "positions = itertools.product(range(h), range(w))\n",
    "\n",
    "for (y_i, x_i), img in zip(positions, imgs):\n",
    "    x = x_i * (img_w + m_x)\n",
    "    y = y_i * (img_h + m_y)\n",
    "    imgmatrix[y:y+img_h, x:x+img_w, :] = img\n",
    "\n",
    "resized = cv2.resize(imgmatrix, (mat_x,mat_y), interpolation = cv2.INTER_AREA)\n",
    "\n",
    "cv2.imwrite(name, resized,)"
   ]
  },
  {
   "cell_type": "code",
   "execution_count": 2,
   "metadata": {},
   "outputs": [
    {
     "data": {
      "text/plain": [
       "[]"
      ]
     },
     "execution_count": 2,
     "metadata": {},
     "output_type": "execute_result"
    }
   ],
   "source": [
    "imgs"
   ]
  }
 ],
 "metadata": {
  "kernelspec": {
   "display_name": "Python 3.7 (Intel® oneAPI)",
   "language": "python",
   "name": "c009-intel_distribution_of_python_3_oneapi-beta05-python"
  },
  "language_info": {
   "codemirror_mode": {
    "name": "ipython",
    "version": 3
   },
   "file_extension": ".py",
   "mimetype": "text/x-python",
   "name": "python",
   "nbconvert_exporter": "python",
   "pygments_lexer": "ipython3",
   "version": "3.7.7"
  }
 },
 "nbformat": 4,
 "nbformat_minor": 4
}
