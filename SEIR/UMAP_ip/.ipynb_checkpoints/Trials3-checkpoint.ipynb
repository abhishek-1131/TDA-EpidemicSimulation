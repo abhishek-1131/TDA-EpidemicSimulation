{
 "cells": [
  {
   "cell_type": "code",
   "execution_count": 1,
   "metadata": {},
   "outputs": [
    {
     "name": "stdout",
     "output_type": "stream",
     "text": [
      "CPU times: user 3.33 s, sys: 728 ms, total: 4.06 s\n",
      "Wall time: 10.9 s\n"
     ]
    }
   ],
   "source": [
    "%%time\n",
    "import time\n",
    "\n",
    "from mpl_toolkits.mplot3d import Axes3D\n",
    "import seaborn as sns\n",
    "import matplotlib.pyplot as plt\n",
    "import umap.umap_ as umap\n",
    "from sklearn.datasets import make_blobs\n",
    "import numpy as np\n",
    "%matplotlib inline\n",
    "import scipy\n",
    "import time\n",
    "import networkx as nx\n",
    "import collections\n",
    "from collections import defaultdict\n",
    "import random\n",
    "import pandas as pd\n",
    "\n",
    "from seirsplus.models import *\n",
    "from seirsplus.networks import *\n",
    "import networkx\n",
    "sns.set(style='white', context='poster', rc={'figure.figsize':(8,6)})\n",
    "#default_seed = 16\n"
   ]
  },
  {
   "cell_type": "markdown",
   "metadata": {},
   "source": [
    "#### ipfn a and b (for box-plots):"
   ]
  },
  {
   "cell_type": "code",
   "execution_count": 2,
   "metadata": {},
   "outputs": [],
   "source": [
    "def ipfnA(s,c_arr, sd, n_neighbors):\n",
    "    #s= no of points\n",
    "    #c_arr = Array of centers\n",
    "    #sd = std. dev.\n",
    "    #n = n_neighbors \n",
    "#     print([s,c_arr, sd, n_neighbors])\n",
    "    i=n_neighbors\n",
    "    arr = [int(s/2), int(s/2)]\n",
    "    data,y = make_blobs(n_samples=arr,n_features=2,random_state=16, centers=c_arr ,cluster_std=sd)\n",
    "    \n",
    "    r = np.random.RandomState(10)\n",
    "    coo_matrix1 = umap.fuzzy_simplicial_set(data,n_neighbors,r,'euclidean')\n",
    "    coo_matrix1 = np.asarray(coo_matrix1)\n",
    "    sparse_matrix = coo_matrix1[0]\n",
    "    #print(sparse_matrix.getnnz()\n",
    "\n",
    "    return nx.from_scipy_sparse_matrix(sparse_matrix)\n",
    "    "
   ]
  },
  {
   "cell_type": "code",
   "execution_count": 3,
   "metadata": {},
   "outputs": [],
   "source": [
    "def ipfnB(G1,s=1000):\n",
    "#s = no of points\n",
    "    SIGMA  = 1/5.2\n",
    "    GAMMA  = 1/10\n",
    "    MU_I   = 0.002\n",
    "\n",
    "    R0     = 2.5\n",
    "    BETA   = 1/(1/GAMMA) * R0\n",
    "    BETA_Q = 0.5*BETA\n",
    "\n",
    "    P      = 0.2\n",
    "    Q      = 0.05\n",
    "    \n",
    "    model_base = SEIRSNetworkModel(G       = G1, \n",
    "                          beta    = BETA, \n",
    "                          sigma   = SIGMA, \n",
    "                          gamma   = GAMMA, \n",
    "                          initE = s*0.4, initI = s*0.1)\n",
    "    \n",
    "    model_base.run(T=300)\n",
    "    fig,axs = model_base.figure_basic(ylim=0.5,xlim=100)\n",
    "    \n",
    "    line = axs.lines[1]\n",
    "    p = line.get_data()\n",
    "    m = max(p[1])\n",
    "    d = p[0][np.argmax(p[1])]\n",
    "    return m,d"
   ]
  },
  {
   "cell_type": "code",
   "execution_count": 4,
   "metadata": {},
   "outputs": [],
   "source": [
    "import warnings\n",
    "warnings.filterwarnings('ignore')"
   ]
  },
  {
   "cell_type": "code",
   "execution_count": null,
   "metadata": {},
   "outputs": [],
   "source": [
    "graph_list = []\n",
    "for l in range(6):\n",
    "    for sdv in range(1, 7):\n",
    "        graph = ipfnA(1000,[[1,1],[1,(4*l+5)]],sdv,30)\n",
    "        graph_list.append(graph)"
   ]
  },
  {
   "cell_type": "code",
   "execution_count": null,
   "metadata": {
    "scrolled": true
   },
   "outputs": [],
   "source": [
    "Y = []\n",
    "X = []\n",
    "for i in graph_list:\n",
    "    for _ in range(10):\n",
    "        y,x = ipfnB(i)\n",
    "        Y.append(y)\n",
    "        X.append(x)"
   ]
  },
  {
   "cell_type": "code",
   "execution_count": 51,
   "metadata": {},
   "outputs": [],
   "source": [
    "import pickle"
   ]
  },
  {
   "cell_type": "code",
   "execution_count": 52,
   "metadata": {},
   "outputs": [],
   "source": [
    "# data = [Y,X]\n",
    "# with open('data.pkl', 'wb') as outfile:\n",
    "#     pickle.dump(data, outfile, pickle.HIGHEST_PROTOCOL)"
   ]
  },
  {
   "cell_type": "code",
   "execution_count": 53,
   "metadata": {},
   "outputs": [],
   "source": [
    "with open('data.pkl', 'rb') as infile:\n",
    "    result = pickle.load(infile)"
   ]
  },
  {
   "cell_type": "code",
   "execution_count": 54,
   "metadata": {},
   "outputs": [],
   "source": [
    "Y1 = result[0]\n",
    "X1 = result[1]\n",
    "\n",
    "Y1 = np.asarray(Y1)\n",
    "X1 = np.asarray(X1)"
   ]
  },
  {
   "cell_type": "code",
   "execution_count": 55,
   "metadata": {},
   "outputs": [],
   "source": [
    "Y1 = np.split(Y1,36)\n",
    "X1 = np.split(X1,36)"
   ]
  },
  {
   "cell_type": "code",
   "execution_count": 56,
   "metadata": {},
   "outputs": [],
   "source": [
    "#first sub-list in Y1 = box-plot values (10 iterations) for plot@[1,1] in (6x6) grid\n",
    "#second sub-list in Y1 = box-plot values (10 iterations) for plot@[1,2] in (6x6) grid\n",
    "#first six sub lists in Y1 = box-plot values for 1st row in (6x6) grid"
   ]
  },
  {
   "cell_type": "code",
   "execution_count": 57,
   "metadata": {},
   "outputs": [],
   "source": [
    "Y1 = np.asarray(Y1)\n",
    "Y1bp = np.split(Y1,6)"
   ]
  },
  {
   "cell_type": "code",
   "execution_count": 58,
   "metadata": {},
   "outputs": [
    {
     "data": {
      "text/plain": [
       "(6, 6, 10)"
      ]
     },
     "execution_count": 58,
     "metadata": {},
     "output_type": "execute_result"
    }
   ],
   "source": [
    "Y1bp = np.asarray(Y1bp)\n",
    "Y1bp.shape"
   ]
  },
  {
   "cell_type": "code",
   "execution_count": 61,
   "metadata": {},
   "outputs": [],
   "source": [
    "Y01 = Y1bp[0].transpose()\n",
    "Y02 = Y1bp[1].transpose()\n",
    "Y03 = Y1bp[2].transpose()\n",
    "Y04 = Y1bp[3].transpose()\n",
    "Y05 = Y1bp[4].transpose()\n",
    "Y06 = Y1bp[5].transpose()"
   ]
  },
  {
   "cell_type": "code",
   "execution_count": 63,
   "metadata": {},
   "outputs": [
    {
     "data": {
      "text/plain": [
       "{'whiskers': [<matplotlib.lines.Line2D at 0x7fd43909c050>,\n",
       "  <matplotlib.lines.Line2D at 0x7fd438de7850>,\n",
       "  <matplotlib.lines.Line2D at 0x7fd438dfa710>,\n",
       "  <matplotlib.lines.Line2D at 0x7fd438de7e50>,\n",
       "  <matplotlib.lines.Line2D at 0x7fd438e0ea50>,\n",
       "  <matplotlib.lines.Line2D at 0x7fd438e0ef50>,\n",
       "  <matplotlib.lines.Line2D at 0x7fd438e1ce50>,\n",
       "  <matplotlib.lines.Line2D at 0x7fd438e14f10>,\n",
       "  <matplotlib.lines.Line2D at 0x7fd438db6390>,\n",
       "  <matplotlib.lines.Line2D at 0x7fd438e03c10>,\n",
       "  <matplotlib.lines.Line2D at 0x7fd438dc7610>,\n",
       "  <matplotlib.lines.Line2D at 0x7fd438dc7b10>],\n",
       " 'caps': [<matplotlib.lines.Line2D at 0x7fd438de7d50>,\n",
       "  <matplotlib.lines.Line2D at 0x7fd438e5ff50>,\n",
       "  <matplotlib.lines.Line2D at 0x7fd438df1790>,\n",
       "  <matplotlib.lines.Line2D at 0x7fd438e03610>,\n",
       "  <matplotlib.lines.Line2D at 0x7fd438e144d0>,\n",
       "  <matplotlib.lines.Line2D at 0x7fd438e149d0>,\n",
       "  <matplotlib.lines.Line2D at 0x7fd438da6890>,\n",
       "  <matplotlib.lines.Line2D at 0x7fd438da6d90>,\n",
       "  <matplotlib.lines.Line2D at 0x7fd438db6c50>,\n",
       "  <matplotlib.lines.Line2D at 0x7fd438e0eb50>,\n",
       "  <matplotlib.lines.Line2D at 0x7fd438dbfc50>,\n",
       "  <matplotlib.lines.Line2D at 0x7fd438dd0550>],\n",
       " 'boxes': [<matplotlib.lines.Line2D at 0x7fd43909c250>,\n",
       "  <matplotlib.lines.Line2D at 0x7fd438df1e50>,\n",
       "  <matplotlib.lines.Line2D at 0x7fd438e0e1d0>,\n",
       "  <matplotlib.lines.Line2D at 0x7fd438e1c5d0>,\n",
       "  <matplotlib.lines.Line2D at 0x7fd438dad950>,\n",
       "  <matplotlib.lines.Line2D at 0x7fd438dbfc90>],\n",
       " 'medians': [<matplotlib.lines.Line2D at 0x7fd438df17d0>,\n",
       "  <matplotlib.lines.Line2D at 0x7fd438e03b10>,\n",
       "  <matplotlib.lines.Line2D at 0x7fd438e14b10>,\n",
       "  <matplotlib.lines.Line2D at 0x7fd438e1cf50>,\n",
       "  <matplotlib.lines.Line2D at 0x7fd438dbf650>,\n",
       "  <matplotlib.lines.Line2D at 0x7fd438dd0a50>],\n",
       " 'fliers': [<matplotlib.lines.Line2D at 0x7fd438df1cd0>,\n",
       "  <matplotlib.lines.Line2D at 0x7fd438dfacd0>,\n",
       "  <matplotlib.lines.Line2D at 0x7fd438e1c450>,\n",
       "  <matplotlib.lines.Line2D at 0x7fd438dad7d0>,\n",
       "  <matplotlib.lines.Line2D at 0x7fd438dbfb50>,\n",
       "  <matplotlib.lines.Line2D at 0x7fd438dd0f50>],\n",
       " 'means': []}"
      ]
     },
     "execution_count": 63,
     "metadata": {},
     "output_type": "execute_result"
    },
    {
     "data": {
      "image/png": "[encoded data removed]",
      "text/plain": [
       "<Figure size 720x864 with 6 Axes>"
      ]
     },
     "metadata": {},
     "output_type": "display_data"
    }
   ],
   "source": [
    "fig, axm = plt.subplots(6,1, figsize= (10,12), sharex =True,sharey =True)\n",
    "axm[0].boxplot(Y01)\n",
    "axm[1].boxplot(Y02)\n",
    "axm[2].boxplot(Y03)\n",
    "axm[3].boxplot(Y04)\n",
    "axm[4].boxplot(Y05)\n",
    "axm[5].boxplot(Y06)"
   ]
  },
  {
   "cell_type": "code",
   "execution_count": null,
   "metadata": {},
   "outputs": [],
   "source": [
    "s"
   ]
  }
 ],
 "metadata": {
  "kernelspec": {
   "display_name": "Python 3.7 (Intel® oneAPI)",
   "language": "python",
   "name": "c009-intel_distribution_of_python_3_oneapi-beta05-python"
  },
  "language_info": {
   "codemirror_mode": {
    "name": "ipython",
    "version": 3
   },
   "file_extension": ".py",
   "mimetype": "text/x-python",
   "name": "python",
   "nbconvert_exporter": "python",
   "pygments_lexer": "ipython3",
   "version": "3.7.9"
  }
 },
 "nbformat": 4,
 "nbformat_minor": 4
}
