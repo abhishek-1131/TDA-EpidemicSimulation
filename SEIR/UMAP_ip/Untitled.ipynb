{
 "cells": [
  {
   "cell_type": "code",
   "execution_count": 5,
   "metadata": {},
   "outputs": [],
   "source": [
    "import time\n",
    "from mpl_toolkits.mplot3d import Axes3D\n",
    "import seaborn as sns\n",
    "import matplotlib.pyplot as plt\n",
    "from umap_ import *\n",
    "from sklearn.datasets import make_blobs\n",
    "import numpy as np\n",
    "%matplotlib inline\n",
    "import scipy\n",
    "import time\n",
    "import networkx as nx\n",
    "import collections\n",
    "import EoN\n",
    "from collections import defaultdict\n",
    "import random\n",
    "import pandas as pd\n",
    "import plotly.express as px\n",
    "import plotly\n",
    "import plotly.graph_objects as go\n",
    "#import xlsxwriter\n",
    "\n",
    "sns.set(style='darkgrid', context='poster', rc={'figure.figsize':(8,6)})\n",
    "#default_seed = 16\n"
   ]
  },
  {
   "cell_type": "code",
   "execution_count": 7,
   "metadata": {},
   "outputs": [
    {
     "name": "stdout",
     "output_type": "stream",
     "text": [
      "CPU times: user 3.01 ms, sys: 0 ns, total: 3.01 ms\n",
      "Wall time: 2.87 ms\n"
     ]
    }
   ],
   "source": [
    "%%time\n",
    "import time\n",
    "\n",
    "from mpl_toolkits.mplot3d import Axes3D\n",
    "import seaborn as sns\n",
    "import matplotlib.pyplot as plt\n",
    "import umap.umap_ as umap\n",
    "from sklearn.datasets import make_blobs\n",
    "import numpy as np\n",
    "%matplotlib inline\n",
    "import scipy\n",
    "import time\n",
    "import networkx as nx\n",
    "import collections\n",
    "import EoN\n",
    "from collections import defaultdict\n",
    "import random\n",
    "import pandas as pd\n",
    "\n",
    "\n",
    "sns.set(style='white', context='poster', rc={'figure.figsize':(8,6)})\n",
    "#default_seed = 16\n"
   ]
  },
  {
   "cell_type": "code",
   "execution_count": null,
   "metadata": {},
   "outputs": [],
   "source": [
    "##Trial for characterization\n",
    "s = 1000\n",
    "arr = [int(s/2), int(s/2)]\n",
    "c_arr = [[1,1],[1,15]]\n",
    "data,y = make_blobs(n_samples=arr,n_features=2,random_state=16, centers=c_arr ,cluster_std=1.4)\n",
    "\n",
    "\n",
    "r = np.random.RandomState(10)\n",
    "\n",
    "coo_matrix1 = umap.fuzzy_simplicial_set(data,30,r,'euclidean')\n",
    "coo_matrix1 = np.asarray(coo_matrix1)\n",
    "\n",
    "\n",
    "#repeat\n",
    "sparse_matrix = coo_matrix1[0]\n",
    "#print(sparse_matrix.getnnz())\n",
    "\n",
    "G1 = nx.from_scipy_sparse_matrix(sparse_matrix)\n",
    "\n",
    "\n",
    "#random.seed(0)\n",
    "#node_attribute_dict = {node: 0.5+random.random() for node in G1.nodes()}\n",
    "#nx.set_node_attributes(G1, values=node_attribute_dict, name='expose2infect_weight')\n",
    "\n",
    "H1 = nx.DiGraph()\n",
    "H1.add_node('S')\n",
    "H1.add_edge('E', 'I', rate = 0.7)\n",
    "H1.add_edge('I', 'R', rate = 0.3)\n",
    "\n",
    "J1 = nx.DiGraph()\n",
    "J1.add_edge(('I', 'S'), ('I', 'E'), rate = 0.5, weight_label='weight')\n",
    "IC = defaultdict(lambda: 'S')\n",
    "for node in range(50):\n",
    "    IC[node] = 'I'\n",
    "    \n",
    "return_statuses = ('S', 'E', 'I', 'R')\n",
    "\n",
    "t, S, E, I, R = EoN.Gillespie_simple_contagion(G1, H1, J1, IC, return_statuses,\n",
    "                                        tmax = float('inf'))\n",
    "\n",
    "plt.semilogy(t, S, label = 'Susceptible')\n",
    "plt.semilogy(t, E, label = 'Exposed')\n",
    "plt.semilogy(t, I, label = 'Infected')\n",
    "plt.semilogy(t, R, label = 'Recovered')\n",
    "plt.legend()\n",
    "\n",
    "\n",
    "\n"
   ]
  },
  {
   "cell_type": "code",
   "execution_count": 6,
   "metadata": {},
   "outputs": [],
   "source": [
    "\n",
    "ic100 = pd.read_pickle(\"./IC100.pkl\")"
   ]
  },
  {
   "cell_type": "code",
   "execution_count": 4,
   "metadata": {},
   "outputs": [
    {
     "name": "stdout",
     "output_type": "stream",
     "text": [
      "ic100: 5.03780250873821\n"
     ]
    }
   ],
   "source": [
    "print('ic100:',ic100['t'][ic100[\"I\"].idxmax()])"
   ]
  }
 ],
 "metadata": {
  "kernelspec": {
   "display_name": "Python 3.7 (Intel® oneAPI)",
   "language": "python",
   "name": "c009-intel_distribution_of_python_3_oneapi-beta05-python"
  },
  "language_info": {
   "codemirror_mode": {
    "name": "ipython",
    "version": 3
   },
   "file_extension": ".py",
   "mimetype": "text/x-python",
   "name": "python",
   "nbconvert_exporter": "python",
   "pygments_lexer": "ipython3",
   "version": "3.7.7"
  }
 },
 "nbformat": 4,
 "nbformat_minor": 4
}
